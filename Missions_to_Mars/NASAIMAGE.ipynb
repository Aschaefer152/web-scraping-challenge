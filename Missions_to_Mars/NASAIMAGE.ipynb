{
 "cells": [
  {
   "cell_type": "code",
   "execution_count": 1,
   "metadata": {},
   "outputs": [],
   "source": [
    "from splinter import Browser\n",
    "from bs4 import BeautifulSoup"
   ]
  },
  {
   "cell_type": "code",
   "execution_count": 2,
   "metadata": {},
   "outputs": [],
   "source": [
    "#opens chrome driver\n",
    "executable_path = {'executable_path': 'chromedriver.exe'}\n",
    "browser = Browser('chrome', **executable_path, headless=False)"
   ]
  },
  {
   "cell_type": "code",
   "execution_count": 3,
   "metadata": {},
   "outputs": [],
   "source": [
    "url = 'https://www.jpl.nasa.gov/spaceimages/?search=&category=Mars'\n",
    "browser.visit(url)"
   ]
  },
  {
   "cell_type": "code",
   "execution_count": 15,
   "metadata": {},
   "outputs": [
    {
     "name": "stdout",
     "output_type": "stream",
     "text": [
      "https://www.jpl.nasa.gov/assets/images/logo_nasa_trio_black@2x.png\n",
      "https://www.jpl.nasa.gov/assets/images/logo_nasa_trio_black@2x.png\n",
      "https://www.jpl.nasa.gov/assets/images/overlay-arrow.png\n",
      "https://www.jpl.nasa.gov/spaceimages/images/wallpaper/PIA24085-640x350.jpg\n",
      "https://www.jpl.nasa.gov/assets/images/overlay-arrow.png\n",
      "https://www.jpl.nasa.gov/spaceimages/images/wallpaper/PIA24084-640x350.jpg\n",
      "https://www.jpl.nasa.gov/assets/images/overlay-arrow.png\n",
      "https://www.jpl.nasa.gov/spaceimages/images/wallpaper/PIA24083-640x350.jpg\n",
      "https://www.jpl.nasa.gov/assets/images/overlay-arrow.png\n",
      "https://www.jpl.nasa.gov/spaceimages/images/wallpaper/PIA24039-640x350.jpg\n",
      "https://www.jpl.nasa.gov/assets/images/overlay-arrow.png\n",
      "https://www.jpl.nasa.gov/spaceimages/images/wallpaper/PIA24082-640x350.jpg\n",
      "https://www.jpl.nasa.gov/assets/images/overlay-arrow.png\n",
      "https://www.jpl.nasa.gov/spaceimages/images/wallpaper/PIA24081-640x350.jpg\n",
      "https://www.jpl.nasa.gov/assets/images/overlay-arrow.png\n",
      "https://www.jpl.nasa.gov/spaceimages/images/wallpaper/PIA24079-640x350.jpg\n",
      "https://www.jpl.nasa.gov/assets/images/overlay-arrow.png\n",
      "https://www.jpl.nasa.gov/spaceimages/images/wallpaper/PIA24078-640x350.jpg\n",
      "https://www.jpl.nasa.gov/assets/images/overlay-arrow.png\n",
      "https://www.jpl.nasa.gov/spaceimages/images/wallpaper/PIA24077-640x350.jpg\n",
      "https://www.jpl.nasa.gov/assets/images/overlay-arrow.png\n",
      "https://www.jpl.nasa.gov/spaceimages/images/wallpaper/PIA24076-640x350.jpg\n",
      "https://www.jpl.nasa.gov/assets/images/overlay-arrow.png\n",
      "https://www.jpl.nasa.gov/spaceimages/images/wallpaper/PIA24075-640x350.jpg\n",
      "https://www.jpl.nasa.gov/assets/images/overlay-arrow.png\n",
      "https://www.jpl.nasa.gov/spaceimages/images/wallpaper/PIA24074-640x350.jpg\n",
      "https://www.jpl.nasa.gov/assets/images/overlay-arrow.png\n",
      "https://www.jpl.nasa.gov/spaceimages/images/wallpaper/PIA24073-640x350.jpg\n",
      "https://www.jpl.nasa.gov/assets/images/overlay-arrow.png\n",
      "https://www.jpl.nasa.gov/spaceimages/images/wallpaper/PIA24072-640x350.jpg\n",
      "https://www.jpl.nasa.gov/assets/images/overlay-arrow.png\n",
      "https://www.jpl.nasa.gov/spaceimages/images/wallpaper/PIA24059-640x350.jpg\n",
      "https://www.jpl.nasa.gov/assets/images/overlay-arrow.png\n",
      "https://www.jpl.nasa.gov/spaceimages/images/wallpaper/PIA24036-640x350.jpg\n",
      "https://www.jpl.nasa.gov/assets/images/overlay-arrow.png\n",
      "https://www.jpl.nasa.gov/spaceimages/images/wallpaper/PIA24035-640x350.jpg\n",
      "https://www.jpl.nasa.gov/assets/images/overlay-arrow.png\n",
      "https://www.jpl.nasa.gov/spaceimages/images/wallpaper/PIA24058-640x350.jpg\n",
      "https://www.jpl.nasa.gov/assets/images/overlay-arrow.png\n",
      "https://www.jpl.nasa.gov/spaceimages/images/wallpaper/PIA24057-640x350.jpg\n",
      "https://www.jpl.nasa.gov/assets/images/overlay-arrow.png\n",
      "https://www.jpl.nasa.gov/spaceimages/images/wallpaper/PIA24056-640x350.jpg\n",
      "https://www.jpl.nasa.gov/assets/images/overlay-arrow.png\n",
      "https://www.jpl.nasa.gov/spaceimages/images/wallpaper/PIA24055-640x350.jpg\n",
      "https://www.jpl.nasa.gov/assets/images/overlay-arrow.png\n",
      "https://www.jpl.nasa.gov/spaceimages/images/wallpaper/PIA24054-640x350.jpg\n",
      "https://www.jpl.nasa.gov/assets/images/overlay-arrow.png\n",
      "https://www.jpl.nasa.gov/spaceimages/images/wallpaper/PIA24053-640x350.jpg\n",
      "https://www.jpl.nasa.gov/assets/images/overlay-arrow.png\n",
      "https://www.jpl.nasa.gov/spaceimages/images/wallpaper/PIA24052-640x350.jpg\n",
      "https://www.jpl.nasa.gov/assets/images/overlay-arrow.png\n",
      "https://www.jpl.nasa.gov/spaceimages/images/wallpaper/PIA23977-640x350.jpg\n",
      "https://www.jpl.nasa.gov/assets/images/overlay-arrow.png\n",
      "https://www.jpl.nasa.gov/spaceimages/images/wallpaper/PIA23971-640x350.jpg\n",
      "https://www.jpl.nasa.gov/assets/images/overlay-arrow.png\n",
      "https://www.jpl.nasa.gov/spaceimages/images/wallpaper/PIA23898-640x350.jpg\n",
      "https://www.jpl.nasa.gov/assets/images/overlay-arrow.png\n",
      "https://www.jpl.nasa.gov/spaceimages/images/wallpaper/PIA24015-640x350.jpg\n",
      "https://www.jpl.nasa.gov/assets/images/overlay-arrow.png\n",
      "https://www.jpl.nasa.gov/spaceimages/images/wallpaper/PIA24014-640x350.jpg\n",
      "https://www.jpl.nasa.gov/assets/images/overlay-arrow.png\n",
      "https://www.jpl.nasa.gov/spaceimages/images/wallpaper/PIA24013-640x350.jpg\n",
      "https://www.jpl.nasa.gov/assets/images/overlay-arrow.png\n",
      "https://www.jpl.nasa.gov/spaceimages/images/wallpaper/PIA24032-640x350.jpg\n",
      "https://www.jpl.nasa.gov/assets/images/overlay-arrow.png\n",
      "https://www.jpl.nasa.gov/spaceimages/images/wallpaper/PIA24031-640x350.jpg\n",
      "https://www.jpl.nasa.gov/assets/images/content/tmp/images/jpl_photojournal(3x1).jpg\n",
      "https://www.jpl.nasa.gov/assets/images/content/tmp/images/nasa_images(3x1).jpg\n",
      "https://www.jpl.nasa.gov/assets/images/overlay-arrow.png\n",
      "https://imagecache.jpl.nasa.gov/images/640x350/PIA23965_MAIN_vstb_move_7sec-640x350.gif\n",
      "https://www.jpl.nasa.gov/assets/images/overlay-arrow.png\n",
      "https://imagecache.jpl.nasa.gov/images/640x350/sentinel-6-testing-16-640x350.jpg\n",
      "https://www.jpl.nasa.gov/assets/images/overlay-arrow.png\n",
      "https://imagecache.jpl.nasa.gov/images/640x350/PIA12237-16-640x350.jpg\n",
      "https://www.jpl.nasa.gov/spaceimages/images/mediumsize/PIA19041_ip.jpg\n",
      "https://www.jpl.nasa.gov/assets/images/content/tmp/images/share.png\n"
     ]
    }
   ],
   "source": [
    "#find the image background url\n",
    "\n",
    "html = browser.html\n",
    "soup = BeautifulSoup(html, 'html.parser')  \n",
    "\n",
    "#first click Full-image to go to full image page\n",
    "\n",
    "browser.click_link_by_partial_text('FULL')\n",
    "\n",
    "#now we are in full image link, find the URL Image\n",
    "\n",
    "imgs =  browser.find_by_tag('img')\n",
    "for image in imgs:\n",
    "    print(image._element.get_attribute('src')) \n",
    "  \n",
    "\n",
    "#print the image url\n",
    "#image_url = soup.find(\"div\", class_=\"carousel_container\").get_text()\n",
    "#print(image_url)"
   ]
  },
  {
   "cell_type": "code",
   "execution_count": null,
   "metadata": {},
   "outputs": [],
   "source": []
  }
 ],
 "metadata": {
  "kernelspec": {
   "display_name": "Python 3",
   "language": "python",
   "name": "python3"
  },
  "language_info": {
   "codemirror_mode": {
    "name": "ipython",
    "version": 3
   },
   "file_extension": ".py",
   "mimetype": "text/x-python",
   "name": "python",
   "nbconvert_exporter": "python",
   "pygments_lexer": "ipython3",
   "version": "3.7.6"
  }
 },
 "nbformat": 4,
 "nbformat_minor": 4
}
